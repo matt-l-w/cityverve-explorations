{
  "nbformat": 4,
  "nbformat_minor": 0,
  "metadata": {
    "colab": {
      "name": "ExploringTheCityVerveAPI.ipynb",
      "version": "0.3.2",
      "provenance": [],
      "toc_visible": true,
      "include_colab_link": true
    },
    "kernelspec": {
      "name": "python3",
      "display_name": "Python 3"
    }
  },
  "cells": [
    {
      "cell_type": "markdown",
      "metadata": {
        "id": "view-in-github",
        "colab_type": "text"
      },
      "source": [
        "[View in Colaboratory](https://colab.research.google.com/github/matt-l-w/cityverve-explorations/blob/master/ExploringTheCityVerveAPI.ipynb)"
      ]
    },
    {
      "metadata": {
        "id": "Hj1GaMQitjqP",
        "colab_type": "text"
      },
      "cell_type": "markdown",
      "source": [
        "# Exploring The CityVerve API\n",
        "\n",
        "## Signup\n",
        "Signup was easy and getting an API key took 5 minutes.  See [Getting Started](https://developer.cityverve.org.uk/get-started).\n"
      ]
    },
    {
      "metadata": {
        "id": "Y2KKQKwhuM_J",
        "colab_type": "code",
        "colab": {},
        "cellView": "form"
      },
      "cell_type": "code",
      "source": [
        "#@title Add Your API Key To The Session\n",
        "api_key = \"\" #@param {type:\"string\"}"
      ],
      "execution_count": 0,
      "outputs": []
    },
    {
      "metadata": {
        "id": "4jwK8LP2u7Bq",
        "colab_type": "text"
      },
      "cell_type": "markdown",
      "source": [
        "## Test Run\n",
        "Perform a simple request to confirm that your API key works."
      ]
    },
    {
      "metadata": {
        "id": "2nbUhjlpvD6Y",
        "colab_type": "code",
        "colab": {
          "base_uri": "https://localhost:8080/",
          "height": 54
        },
        "outputId": "9e2a870f-0388-4666-c077-c76ecd3448c7"
      },
      "cell_type": "code",
      "source": [
        "import requests\n",
        "\n",
        "headers = {'Authorization': api_key}\n",
        "\n",
        "resp = requests.get(\"https://api.cityverve.org.uk/v1/entity/blue-plaque\",\n",
        "                    headers=headers)\n",
        "\n",
        "print(resp.text)"
      ],
      "execution_count": 6,
      "outputs": [
        {
          "output_type": "stream",
          "text": [
            "[{\"id\":\"bp_3\",\"uri\":\"https://api.cityverve.org.uk/v1/entity/blue-plaque/bp_3\",\"type\":\"blue-plaque\",\"name\":\"James Gibson\",\"loc\":{\"type\":\"Point\",\"coordinates\":[-2.283981,53.4649]},\"legal\":[{\"type\":\"license\",\"name\":\"UK Open Government Licence (OGL)\",\"link\":\"http://reference.data.gov.uk/id/open-government-licence\"},{\"type\":\"source\",\"name\":\"DataGM\",\"link\":\"https://www.datagm.org.uk\"}]},{\"id\":\"bp_2\",\"uri\":\"https://api.cityverve.org.uk/v1/entity/blue-plaque/bp_2\",\"type\":\"blue-plaque\",\"name\":\"Superintendent James Bent\",\"loc\":{\"type\":\"Point\",\"coordinates\":[-2.266864,53.4641]},\"legal\":[{\"type\":\"license\",\"name\":\"UK Open Government Licence (OGL)\",\"link\":\"http://reference.data.gov.uk/id/open-government-licence\"},{\"type\":\"source\",\"name\":\"DataGM\",\"link\":\"https://www.datagm.org.uk\"}]},{\"id\":\"bp_5\",\"uri\":\"https://api.cityverve.org.uk/v1/entity/blue-plaque/bp_5\",\"type\":\"blue-plaque\",\"name\":\"John Rylandsand Enriqueta Rylands (1843-1908\",\"loc\":{\"type\":\"Point\",\"coordinates\":[-2.263037,53.461759]},\"legal\":[{\"type\":\"license\",\"name\":\"UK Open Government Licence (OGL)\",\"link\":\"http://reference.data.gov.uk/id/open-government-licence\"},{\"type\":\"source\",\"name\":\"DataGM\",\"link\":\"https://www.datagm.org.uk\"}]},{\"id\":\"bp_10\",\"uri\":\"https://api.cityverve.org.uk/v1/entity/blue-plaque/bp_10\",\"type\":\"blue-plaque\",\"name\":\"Ronald Gow\",\"loc\":{\"type\":\"Point\",\"coordinates\":[-2.3510909,53.385475]},\"legal\":[{\"type\":\"license\",\"name\":\"UK Open Government Licence (OGL)\",\"link\":\"http://reference.data.gov.uk/id/open-government-licence\"},{\"type\":\"source\",\"name\":\"DataGM\",\"link\":\"https://www.datagm.org.uk\"}]},{\"id\":\"bp_9\",\"uri\":\"https://api.cityverve.org.uk/v1/entity/blue-plaque/bp_9\",\"type\":\"blue-plaque\",\"name\":\"Helen Allingham\",\"loc\":{\"type\":\"Point\",\"coordinates\":[-2.351268,53.388342]},\"legal\":[{\"type\":\"license\",\"name\":\"UK Open Government Licence (OGL)\",\"link\":\"http://reference.data.gov.uk/id/open-government-licence\"},{\"type\":\"source\",\"name\":\"DataGM\",\"link\":\"https://www.datagm.org.uk\"}]},{\"id\":\"bp_4\",\"uri\":\"https://api.cityverve.org.uk/v1/entity/blue-plaque/bp_4\",\"type\":\"blue-plaque\",\"name\":\"L S Lowry\",\"loc\":{\"type\":\"Point\",\"coordinates\":[-2.26344,53.461617]},\"legal\":[{\"type\":\"license\",\"name\":\"UK Open Government Licence (OGL)\",\"link\":\"http://reference.data.gov.uk/id/open-government-licence\"},{\"type\":\"source\",\"name\":\"DataGM\",\"link\":\"https://www.datagm.org.uk\"}]},{\"id\":\"bp_7\",\"uri\":\"https://api.cityverve.org.uk/v1/entity/blue-plaque/bp_7\",\"type\":\"blue-plaque\",\"name\":\"Tommy Taylor\",\"loc\":{\"type\":\"Point\",\"coordinates\":[-2.29083,53.455885]},\"legal\":[{\"type\":\"license\",\"name\":\"UK Open Government Licence (OGL)\",\"link\":\"http://reference.data.gov.uk/id/open-government-licence\"},{\"type\":\"source\",\"name\":\"DataGM\",\"link\":\"https://www.datagm.org.uk\"}]},{\"id\":\"bp_14\",\"uri\":\"https://api.cityverve.org.uk/v1/entity/blue-plaque/bp_14\",\"type\":\"blue-plaque\",\"name\":\"Robert Bolt\",\"loc\":{\"type\":\"Point\",\"coordinates\":[-2.317429,53.424272]},\"legal\":[{\"type\":\"license\",\"name\":\"UK Open Government Licence (OGL)\",\"link\":\"http://reference.data.gov.uk/id/open-government-licence\"},{\"type\":\"source\",\"name\":\"DataGM\",\"link\":\"https://www.datagm.org.uk\"}]},{\"id\":\"bp_15\",\"uri\":\"https://api.cityverve.org.uk/v1/entity/blue-plaque/bp_15\",\"type\":\"blue-plaque\",\"name\":\"Bottoms Footpath\",\"loc\":{\"type\":\"Point\",\"coordinates\":[-2.3842481,53.443893]},\"legal\":[{\"type\":\"license\",\"name\":\"UK Open Government Licence (OGL)\",\"link\":\"http://reference.data.gov.uk/id/open-government-licence\"},{\"type\":\"source\",\"name\":\"DataGM\",\"link\":\"https://www.datagm.org.uk\"}]},{\"id\":\"bp_12\",\"uri\":\"https://api.cityverve.org.uk/v1/entity/blue-plaque/bp_12\",\"type\":\"blue-plaque\",\"name\":\"George Massey\",\"loc\":{\"type\":\"Point\",\"coordinates\":[-2.3504258,53.389222]},\"legal\":[{\"type\":\"license\",\"name\":\"UK Open Government Licence (OGL)\",\"link\":\"http://reference.data.gov.uk/id/open-government-licence\"},{\"type\":\"source\",\"name\":\"DataGM\",\"link\":\"https://www.datagm.org.uk\"}]},{\"id\":\"bp_19\",\"uri\":\"https://api.cityverve.org.uk/v1/entity/blue-plaque/bp_19\",\"type\":\"blue-plaque\",\"name\":\"Edward Kinder Bradbury\",\"loc\":{\"type\":\"Point\",\"coordinates\":[-2.3625058,53.375917]},\"legal\":[{\"type\":\"license\",\"name\":\"UK Open Government Licence (OGL)\",\"link\":\"http://reference.data.gov.uk/id/open-government-licence\"},{\"type\":\"source\",\"name\":\"DataGM\",\"link\":\"https://www.datagm.org.uk\"}]},{\"id\":\"bp_20\",\"uri\":\"https://api.cityverve.org.uk/v1/entity/blue-plaque/bp_20\",\"type\":\"blue-plaque\",\"name\":\"George Mottershead\",\"loc\":{\"type\":\"Point\",\"coordinates\":[-2.304254,53.420153]},\"legal\":[{\"type\":\"license\",\"name\":\"UK Open Government Licence (OGL)\",\"link\":\"http://reference.data.gov.uk/id/open-government-licence\"},{\"type\":\"source\",\"name\":\"DataGM\",\"link\":\"https://www.datagm.org.uk\"}]},{\"id\":\"bp_17\",\"uri\":\"https://api.cityverve.org.uk/v1/entity/blue-plaque/bp_17\",\"type\":\"blue-plaque\",\"name\":\"Paul Young\",\"loc\":{\"type\":\"Point\",\"coordinates\":[-2.34592,53.38143]},\"legal\":[{\"type\":\"license\",\"name\":\"UK Open Government Licence (OGL)\",\"link\":\"http://reference.data.gov.uk/id/open-government-licence\"},{\"type\":\"source\",\"name\":\"DataGM\",\"link\":\"https://www.datagm.org.uk\"}]},{\"id\":\"bp_8\",\"uri\":\"https://api.cityverve.org.uk/v1/entity/blue-plaque/bp_8\",\"type\":\"blue-plaque\",\"name\":\"Dodie Smith\",\"loc\":{\"type\":\"Point\",\"coordinates\":[-2.293971,53.455057]},\"legal\":[{\"type\":\"license\",\"name\":\"UK Open Government Licence (OGL)\",\"link\":\"http://reference.data.gov.uk/id/open-government-licence\"},{\"type\":\"source\",\"name\":\"DataGM\",\"link\":\"https://www.datagm.org.uk\"}]},{\"id\":\"bp_13\",\"uri\":\"https://api.cityverve.org.uk/v1/entity/blue-plaque/bp_13\",\"type\":\"blue-plaque\",\"name\":\"Chapel Street\",\"loc\":{\"type\":\"Point\",\"coordinates\":[-2.3523945,53.385866]},\"legal\":[{\"type\":\"license\",\"name\":\"UK Open Government Licence (OGL)\",\"link\":\"http://reference.data.gov.uk/id/open-government-licence\"},{\"type\":\"source\",\"name\":\"DataGM\",\"link\":\"https://www.datagm.org.uk\"}]},{\"id\":\"bp_18\",\"uri\":\"https://api.cityverve.org.uk/v1/entity/blue-plaque/bp_18\",\"type\":\"blue-plaque\",\"name\":\"Bernard 'Benny' Rothman\",\"loc\":{\"type\":\"Point\",\"coordinates\":[-2.32401,53.40479]},\"legal\":[{\"type\":\"license\",\"name\":\"UK Open Government Licence (OGL)\",\"link\":\"http://reference.data.gov.uk/id/open-government-licence\"},{\"type\":\"source\",\"name\":\"DataGM\",\"link\":\"https://www.datagm.org.uk\"}]},{\"id\":\"bp_1\",\"uri\":\"https://api.cityverve.org.uk/v1/entity/blue-plaque/bp_1\",\"type\":\"blue-plaque\",\"name\":\"Dame Isobel Baillie\",\"loc\":{\"type\":\"Point\",\"coordinates\":[-2.266539,53.464045]},\"legal\":[{\"type\":\"license\",\"name\":\"UK Open Government Licence (OGL)\",\"link\":\"http://reference.data.gov.uk/id/open-government-licence\"},{\"type\":\"source\",\"name\":\"DataGM\",\"link\":\"https://www.datagm.org.uk\"}]},{\"id\":\"bp_6\",\"uri\":\"https://api.cityverve.org.uk/v1/entity/blue-plaque/bp_6\",\"type\":\"blue-plaque\",\"name\":\"Duncan Edwards\",\"loc\":{\"type\":\"Point\",\"coordinates\":[-2.290923,53.454151]},\"legal\":[{\"type\":\"license\",\"name\":\"UK Open Government Licence (OGL)\",\"link\":\"http://reference.data.gov.uk/id/open-government-licence\"},{\"type\":\"source\",\"name\":\"DataGM\",\"link\":\"https://www.datagm.org.uk\"}]},{\"id\":\"bp_11\",\"uri\":\"https://api.cityverve.org.uk/v1/entity/blue-plaque/bp_11\",\"type\":\"blue-plaque\",\"name\":\"Market Site\",\"loc\":{\"type\":\"Point\",\"coordinates\":[-2.35196,53.387568]},\"legal\":[{\"type\":\"license\",\"name\":\"UK Open Government Licence (OGL)\",\"link\":\"http://reference.data.gov.uk/id/open-government-licence\"},{\"type\":\"source\",\"name\":\"DataGM\",\"link\":\"https://www.datagm.org.uk\"}]},{\"id\":\"bp_16\",\"uri\":\"https://api.cityverve.org.uk/v1/entity/blue-plaque/bp_16\",\"type\":\"blue-plaque\",\"name\":\"Professor Tom Kilburn\",\"loc\":{\"type\":\"Point\",\"coordinates\":[-2.3541741,53.443081]},\"legal\":[{\"type\":\"license\",\"name\":\"UK Open Government Licence (OGL)\",\"link\":\"http://reference.data.gov.uk/id/open-government-licence\"},{\"type\":\"source\",\"name\":\"DataGM\",\"link\":\"https://www.datagm.org.uk\"}]},{\"id\":\"bp_21\",\"uri\":\"https://api.cityverve.org.uk/v1/entity/blue-plaque/bp_21\",\"type\":\"blue-plaque\",\"name\":\"Ford Motor Company Limited, Trafford Park\",\"loc\":{\"type\":\"Point\",\"coordinates\":[-2.345489,53.464999]},\"legal\":[{\"type\":\"license\",\"name\":\"UK Open Government Licence (OGL)\",\"link\":\"http://reference.data.gov.uk/id/open-government-licence\"},{\"type\":\"source\",\"name\":\"DataGM\",\"link\":\"https://www.datagm.org.uk\"}]}]\n"
          ],
          "name": "stdout"
        }
      ]
    }
  ]
}