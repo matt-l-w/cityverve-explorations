{
  "nbformat": 4,
  "nbformat_minor": 0,
  "metadata": {
    "colab": {
      "name": "ExploringTheCityVerveAPI.ipynb",
      "version": "0.3.2",
      "provenance": [],
      "toc_visible": true,
      "include_colab_link": true
    },
    "kernelspec": {
      "name": "python3",
      "display_name": "Python 3"
    }
  },
  "cells": [
    {
      "cell_type": "markdown",
      "metadata": {
        "id": "view-in-github",
        "colab_type": "text"
      },
      "source": [
        "[View in Colaboratory](https://colab.research.google.com/github/matt-l-w/cityverve-explorations/blob/master/ExploringTheCityVerveAPI.ipynb)"
      ]
    },
    {
      "metadata": {
        "id": "Hj1GaMQitjqP",
        "colab_type": "text"
      },
      "cell_type": "markdown",
      "source": [
        "# Exploring The CityVerve API\n",
        "\n",
        "## Signup\n",
        "Signup was easy and getting an API key took 5 minutes.  See [Getting Started](https://developer.cityverve.org.uk/get-started).\n"
      ]
    },
    {
      "metadata": {
        "id": "Y2KKQKwhuM_J",
        "colab_type": "code",
        "colab": {},
        "cellView": "form"
      },
      "cell_type": "code",
      "source": [
        "#@title Add Your API Key To The Session\n",
        "api_key = \"\" #@param {type:\"string\"}"
      ],
      "execution_count": 0,
      "outputs": []
    },
    {
      "metadata": {
        "id": "4jwK8LP2u7Bq",
        "colab_type": "text"
      },
      "cell_type": "markdown",
      "source": [
        "## Test Run\n",
        "Perform a simple request to confirm that your API key works."
      ]
    },
    {
      "metadata": {
        "id": "2nbUhjlpvD6Y",
        "colab_type": "code",
        "colab": {}
      },
      "cell_type": "code",
      "source": [
        "import requests\n",
        "\n",
        "headers = {'Authorization': api_key}\n",
        "\n",
        "resp = requests.get(\"https://api.cityverve.org.uk/v1/entity/blue-plaque\",\n",
        "                    headers=headers)\n",
        "\n",
        "print(resp.text)"
      ],
      "execution_count": 0,
      "outputs": []
    },
    {
      "metadata": {
        "id": "wPDmP9p9ycA5",
        "colab_type": "text"
      },
      "cell_type": "markdown",
      "source": [
        "## Getting Entities\n",
        "Try exploring the entities available by entering the type of entity using the form below."
      ]
    },
    {
      "metadata": {
        "id": "EihEr6yWy4FK",
        "colab_type": "code",
        "colab": {},
        "cellView": "form"
      },
      "cell_type": "code",
      "source": [
        "#@title Entities\n",
        "entity_name = \"\" #@param {type:\"string\"}"
      ],
      "execution_count": 0,
      "outputs": []
    },
    {
      "metadata": {
        "id": "XcY4GAINzMVg",
        "colab_type": "code",
        "colab": {}
      },
      "cell_type": "code",
      "source": [
        "import json\n",
        "import pprint\n",
        "\n",
        "resp = requests.get('https://api.cityverve.org.uk/v1/entity/{}'.format(entity_name), headers=headers)\n",
        "pprint.pprint(json.loads(resp.text))"
      ],
      "execution_count": 0,
      "outputs": []
    }
  ]
}